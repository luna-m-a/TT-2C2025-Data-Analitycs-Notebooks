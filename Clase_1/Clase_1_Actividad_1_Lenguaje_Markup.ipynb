{
  "nbformat": 4,
  "nbformat_minor": 0,
  "metadata": {
    "colab": {
      "provenance": []
    },
    "kernelspec": {
      "name": "python3",
      "display_name": "Python 3"
    },
    "language_info": {
      "name": "python"
    }
  },
  "cells": [
    {
      "cell_type": "markdown",
      "source": [
        "# Actividades"
      ],
      "metadata": {
        "id": "gCJoH7KuEUga"
      }
    },
    {
      "cell_type": "markdown",
      "source": [
        "## Actividad 1"
      ],
      "metadata": {
        "id": "NHa-sP3zJ8Db"
      }
    },
    {
      "cell_type": "markdown",
      "source": [
        "  Creá tu propio bloque de texto. Utiliza:\n",
        "  - formatos de texto\n",
        "  - links\n",
        "  - al menos una imagen de tu carpeta Drive\n",
        "\n",
        "\n",
        "**formato**\n",
        "*de*\n",
        "~texto~\n",
        "\n",
        "  [chivo](https://tecpic.com.ar)"
      ],
      "metadata": {
        "id": "ZlSXlWj4KAZZ"
      }
    },
    {
      "cell_type": "markdown",
      "source": [
        "<img src=\"https://drive.google.com/uc?id=1tI2oximLJpzHnJlturJW7pmY-Gf63DYh\">"
      ],
      "metadata": {
        "id": "QvC9oAqDyYdL"
      }
    },
    {
      "cell_type": "markdown",
      "source": [
        "## Actividad 2"
      ],
      "metadata": {
        "id": "LTFeKV5uKDPK"
      }
    },
    {
      "cell_type": "markdown",
      "source": [
        "Creá un bloque de código con un programa que pida un número por teclado, y responda si es par o impar. Ejecutalo."
      ],
      "metadata": {
        "id": "NfVvRVxMKUu8"
      }
    },
    {
      "cell_type": "code",
      "source": [
        "num=input(\"Escribí un número: \")\n",
        "if int(num)%2==0:\n",
        "  print(\"Es un par\")\n",
        "else:\n",
        "  print(\"Es impar\")"
      ],
      "metadata": {
        "id": "ghN8VUhh0BJa",
        "outputId": "07f6985a-b636-4473-8bf1-8a7c4e4a33b2",
        "colab": {
          "base_uri": "https://localhost:8080/"
        }
      },
      "execution_count": 5,
      "outputs": [
        {
          "output_type": "stream",
          "name": "stdout",
          "text": [
            "Escribí un número: 2\n",
            "Es un par\n"
          ]
        }
      ]
    }
  ]
}