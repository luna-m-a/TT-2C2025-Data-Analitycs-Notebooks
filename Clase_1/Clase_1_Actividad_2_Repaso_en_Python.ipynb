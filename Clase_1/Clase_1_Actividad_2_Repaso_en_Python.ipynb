{
  "nbformat": 4,
  "nbformat_minor": 0,
  "metadata": {
    "colab": {
      "provenance": [],
      "include_colab_link": true
    },
    "kernelspec": {
      "name": "python3",
      "display_name": "Python 3"
    },
    "language_info": {
      "name": "python"
    }
  },
  "cells": [
    {
      "cell_type": "markdown",
      "metadata": {
        "id": "view-in-github",
        "colab_type": "text"
      },
      "source": [
        "<a href=\"https://colab.research.google.com/github/luna-m-a/TT-2C2025-Data-Analitycs-Notebooks/blob/main/Clase_1/Clase_1_Actividad_2_Repaso_en_Python.ipynb\" target=\"_parent\"><img src=\"https://colab.research.google.com/assets/colab-badge.svg\" alt=\"Open In Colab\"/></a>"
      ]
    },
    {
      "cell_type": "markdown",
      "source": [
        "#1. Propiedades de Tipos de Datos"
      ],
      "metadata": {
        "id": "sX3HqGZ13I0S"
      }
    },
    {
      "cell_type": "markdown",
      "source": [
        "Repasemos cuáles son los tipos de datos nativos en Python más utilizados."
      ],
      "metadata": {
        "id": "CTS95uKOhYKz"
      }
    },
    {
      "cell_type": "markdown",
      "source": [
        "## Tipos de Datos Simples"
      ],
      "metadata": {
        "id": "5Aqs7e2AIo15"
      }
    },
    {
      "cell_type": "markdown",
      "source": [
        "* **int:** Números enteros. Ejemplo: `x = 5`\n",
        "* **float:** Números de punto flotante. Ejemplo: `y = 3.14`\n",
        "* **str:** Cadenas de texto. Ejemplo: `nombre = \"Alice\"`\n",
        "* **bool:** Valores booleanos (`True`/`False`). texto en negrita"
      ],
      "metadata": {
        "id": "Sqixkjoa_UxI"
      }
    },
    {
      "cell_type": "markdown",
      "source": [
        "## Tipos de Datos Complejos"
      ],
      "metadata": {
        "id": "_O3RXznRBudq"
      }
    },
    {
      "cell_type": "markdown",
      "source": [
        "* **list:** Colección ordenada y mutable. Ejemplo: `lista = [1, 2, 3]`"
      ],
      "metadata": {
        "id": "wdAtFFOyHDlu"
      }
    },
    {
      "cell_type": "code",
      "source": [
        "lista = [1,2,3]\n",
        "lista.append(4)\n",
        "print(lista)\n",
        "print(lista[2])"
      ],
      "metadata": {
        "id": "VclutYNhHMEF",
        "outputId": "7a2e7e98-9f6f-4023-f061-62bd87662a24",
        "colab": {
          "base_uri": "https://localhost:8080/"
        }
      },
      "execution_count": 4,
      "outputs": [
        {
          "output_type": "stream",
          "name": "stdout",
          "text": [
            "[1, 2, 3, 4]\n",
            "3\n"
          ]
        }
      ]
    },
    {
      "cell_type": "markdown",
      "source": [
        "tuple: Colección ordenada e inmutable. Ejemplo: tupla = (1, 2, 3)"
      ],
      "metadata": {
        "id": "twemprTcHu2w"
      }
    },
    {
      "cell_type": "code",
      "source": [
        "tupla = (1, 2, 3)"
      ],
      "metadata": {
        "id": "mSng0xHeHyMZ"
      },
      "execution_count": null,
      "outputs": []
    },
    {
      "cell_type": "markdown",
      "source": [
        "dict: Colección de pares clave-valor. Ejemplo: diccionario = {\"clave1\": \"valor1\", \"clave2\": \"valor2\"}"
      ],
      "metadata": {
        "id": "lU0tlWSIH4JB"
      }
    },
    {
      "cell_type": "code",
      "source": [
        "diccionario = {\"clave1\": \"valor1\", \"clave2\": \"valor2\"}"
      ],
      "metadata": {
        "id": "W5cWwr3mH5UA"
      },
      "execution_count": null,
      "outputs": []
    },
    {
      "cell_type": "markdown",
      "source": [
        "* **set:** Colección desordenada de elementos únicos. Ejemplo: {1, 2, 3}"
      ],
      "metadata": {
        "id": "lOX_Q4OaADgY"
      }
    },
    {
      "cell_type": "code",
      "source": [
        "set = {1,2,3}\n",
        "set.add(4)\n",
        "print(set)\n",
        "set.add(3)\n",
        "print(set)"
      ],
      "metadata": {
        "id": "GkdY3NiBGlu_",
        "outputId": "f8d303d7-a03c-4c3b-e4bb-afbe1078de1b",
        "colab": {
          "base_uri": "https://localhost:8080/"
        }
      },
      "execution_count": 2,
      "outputs": [
        {
          "output_type": "stream",
          "name": "stdout",
          "text": [
            "{1, 2, 3, 4}\n",
            "{1, 2, 3, 4}\n"
          ]
        }
      ]
    },
    {
      "cell_type": "markdown",
      "source": [
        "* **frozenset:** Colección desordenada de elementos únicos e inmutable. Ejemplo: `frozenset({1, 2, 3})`"
      ],
      "metadata": {
        "id": "ahk5Q9jKHLC7"
      }
    },
    {
      "cell_type": "code",
      "source": [
        "frozenset({1, 2, 3})"
      ],
      "metadata": {
        "id": "NVN1occWHZ-v"
      },
      "execution_count": null,
      "outputs": []
    },
    {
      "cell_type": "code",
      "source": [
        "# Ejercicio de lista\n"
      ],
      "metadata": {
        "id": "l9niXx9qA-fG",
        "colab": {
          "base_uri": "https://localhost:8080/"
        },
        "outputId": "c317f78b-1d9e-41d4-8fa5-8f25cbf72850"
      },
      "execution_count": null,
      "outputs": [
        {
          "output_type": "stream",
          "name": "stdout",
          "text": [
            "texto\n"
          ]
        }
      ]
    },
    {
      "cell_type": "code",
      "source": [
        "# Ejercicio de diccionario\n"
      ],
      "metadata": {
        "id": "7Rgzw9ThdwPC",
        "colab": {
          "base_uri": "https://localhost:8080/"
        },
        "outputId": "8d0d72ce-096c-411c-ae14-91a00ad18e84"
      },
      "execution_count": null,
      "outputs": [
        {
          "output_type": "stream",
          "name": "stdout",
          "text": [
            "Alicia\n"
          ]
        }
      ]
    },
    {
      "cell_type": "markdown",
      "source": [
        "# 2. OPERADORES\n",
        "Son símbolos que se aplican a uno o varios operandos en una expresión o instrucción con el fin de obtener cierto resultado"
      ],
      "metadata": {
        "id": "kJTRrXuu_skK"
      }
    },
    {
      "cell_type": "markdown",
      "source": [
        "###2.1. OPERADORES ARITMÉTICOS"
      ],
      "metadata": {
        "id": "Q1Ort25CB2BG"
      }
    },
    {
      "cell_type": "markdown",
      "metadata": {
        "id": "mHxvXjIJz-LI"
      },
      "source": [
        "\n",
        "- suma +\n",
        "- resta -\n",
        "- multiplicación *\n",
        "- potencia **\n",
        "- división /\n",
        "- división entera //\n",
        "- módulo (resto de la división) %\n",
        "\n",
        "\n"
      ]
    },
    {
      "cell_type": "markdown",
      "source": [
        "###2.2. OPERADORES DE ASIGNACIÓN"
      ],
      "metadata": {
        "id": "F3tEAGjaB3xf"
      }
    },
    {
      "cell_type": "markdown",
      "metadata": {
        "id": "jonq0jC616wM"
      },
      "source": [
        "\n",
        "Dada una variable, puedo asignarle un valor, escribiendo\n",
        "\n",
        "\n",
        "a = 5 # el operador **igual a**\n",
        "\n",
        "\n",
        "a += 4 # toma el valor actual de a y le suma 4 -> ahora vale 9  \n",
        "\n",
        "\n",
        "a -= 3 # toma el valor actual de a y le resta 3 -> ahora vale 6\n",
        "\n",
        "\n",
        "a *= 2 # toma el valor actual de a y lo multiplica por 2 -> 12\n",
        "\n",
        "\n",
        "a /= 3\n",
        "\n",
        "\n",
        "a //=3\n",
        "\n",
        "\n",
        "a %= 3"
      ]
    },
    {
      "cell_type": "markdown",
      "source": [
        "###2.3. OPERADORES RELACIONALES"
      ],
      "metadata": {
        "id": "v5MAeoSuB66_"
      }
    },
    {
      "cell_type": "markdown",
      "metadata": {
        "id": "jbk5FVll4QpA"
      },
      "source": [
        "\n",
        "Devuelven un valor booleano. Se usan para crear los condicionales y poder alterar el flujo de nuestro programa\n",
        "Dados a y b\n",
        "\n",
        "a == b # si son iguales -> Devuelve True o False\n",
        "\n",
        "a != b # a no es igual a b\n",
        "\n",
        "a < b # a es menor que b\n",
        "\n",
        "a > b # a es mayor que b\n",
        "\n",
        "a <= b # a es menor o igual que b\n",
        "\n",
        "a >= b # a es mayor o igual que b\n",
        "\n",
        "\n",
        "\n",
        "\n"
      ]
    },
    {
      "cell_type": "markdown",
      "source": [
        "###2.4. OPERADORES LÓGICOS o BOOLEANOS"
      ],
      "metadata": {
        "id": "J3MSNMX5B9FJ"
      }
    },
    {
      "cell_type": "markdown",
      "metadata": {
        "id": "9XELs8o55mr6"
      },
      "source": [
        "\n",
        "\n",
        "and # evalúa si ambos operandos son True\n",
        "\n",
        "or # evalúa si al menos uno de los operandos es True\n",
        "\n",
        "not # cambia el valor del operando"
      ]
    },
    {
      "cell_type": "markdown",
      "source": [
        "###2.5. OPERADORES DE PERTENENCIA"
      ],
      "metadata": {
        "id": "d5HXiibCB_KL"
      }
    },
    {
      "cell_type": "markdown",
      "source": [
        "\n",
        "\n",
        "Devuelve True o False dependiendo de si un elemento pertenece o no a una secuencia de datos\n",
        "\n",
        "IN\n",
        "\n",
        "NOT IN"
      ],
      "metadata": {
        "id": "tgx2iKtOMx3I"
      }
    },
    {
      "cell_type": "markdown",
      "source": [
        "#Ejercicios"
      ],
      "metadata": {
        "id": "60oMjZhOIhWO"
      }
    },
    {
      "cell_type": "markdown",
      "source": [
        "\n",
        "1. Crear una lista con varios tipos de datos y acceder a sus elementos.\n"
      ],
      "metadata": {
        "id": "2ptdK6CxA5C9"
      }
    },
    {
      "cell_type": "code",
      "source": [
        "compras = [\"huevos\", \"harina\", 1, 2.4]\n",
        "print(compras)\n",
        "print(compras[1])\n",
        "print(compras[3])"
      ],
      "metadata": {
        "id": "66zqNVL1I0Kp",
        "outputId": "b75ffc7b-438f-4d04-8d0b-aa41d1f87923",
        "colab": {
          "base_uri": "https://localhost:8080/"
        }
      },
      "execution_count": 6,
      "outputs": [
        {
          "output_type": "stream",
          "name": "stdout",
          "text": [
            "['huevos', 'harina', 1, 2.4]\n",
            "harina\n",
            "2.4\n"
          ]
        }
      ]
    },
    {
      "cell_type": "markdown",
      "source": [
        "2. Crear un diccionario y acceder a sus valores por clave."
      ],
      "metadata": {
        "id": "87XQWhfXI0bZ"
      }
    },
    {
      "cell_type": "code",
      "source": [
        "compras = {\"huevos\": 1, \"harina\":2.4}\n",
        "print(compras)\n",
        "print(compras[\"huevos\"])"
      ],
      "metadata": {
        "id": "7rPRiH_NI1Ry",
        "outputId": "bb5a2277-8712-4ec0-b128-4aa769fadfe8",
        "colab": {
          "base_uri": "https://localhost:8080/"
        }
      },
      "execution_count": 12,
      "outputs": [
        {
          "output_type": "stream",
          "name": "stdout",
          "text": [
            "{'huevos': 1, 'harina': 2.4}\n",
            "1\n"
          ]
        }
      ]
    },
    {
      "cell_type": "markdown",
      "source": [
        "3. Generar una lista con los números del 1 al 5. Crear otra lista con el cuadrado y otra con la raíz cuadrada de esos números"
      ],
      "metadata": {
        "id": "MwGerhTNI27W"
      }
    },
    {
      "cell_type": "code",
      "source": [
        "# Importar math y usar metodos pow y sqrt\n",
        "import math\n",
        "numeros=[1,2,3,4,5]\n",
        "numcu=[]\n",
        "print(numeros)\n",
        "for num in numeros:\n",
        "  numcu.append(pow(num, 2))\n",
        "print(numcu)\n",
        "numra=[]\n",
        "for num in numeros:\n",
        "  numra.append(math.sqrt(num))\n",
        "print(numra)"
      ],
      "metadata": {
        "id": "S6lg9c_pJAKB",
        "outputId": "5c3c27c5-a720-4177-eb22-62825f3787a1",
        "colab": {
          "base_uri": "https://localhost:8080/"
        }
      },
      "execution_count": 24,
      "outputs": [
        {
          "output_type": "stream",
          "name": "stdout",
          "text": [
            "[1, 2, 3, 4, 5]\n",
            "[1, 4, 9, 16, 25]\n",
            "[1.0, 1.4142135623730951, 1.7320508075688772, 2.0, 2.23606797749979]\n"
          ]
        }
      ]
    },
    {
      "cell_type": "markdown",
      "source": [
        "4. Encontrar el mínimo y máximo de una lista"
      ],
      "metadata": {
        "id": "wsi5bgD5JSAw"
      }
    },
    {
      "cell_type": "code",
      "source": [
        "# import math\n",
        "import math\n",
        "numeros = [12, 7, 25, 3, 19]\n",
        "print(min(numeros))\n",
        "print(max(numeros))"
      ],
      "metadata": {
        "id": "ktkCApmIJWWw",
        "outputId": "a0298449-1c4a-4805-c4f8-7e4c9314b7d0",
        "colab": {
          "base_uri": "https://localhost:8080/"
        }
      },
      "execution_count": 25,
      "outputs": [
        {
          "output_type": "stream",
          "name": "stdout",
          "text": [
            "3\n",
            "25\n"
          ]
        }
      ]
    },
    {
      "cell_type": "markdown",
      "source": [
        "5. Calcular el promedio de los números de una lista"
      ],
      "metadata": {
        "id": "BzWAJRt9JZBB"
      }
    },
    {
      "cell_type": "code",
      "source": [
        "# import math\n",
        "notas = [7.5, 8.0, 6.5, 9.0, 10.0]\n",
        "import math\n",
        "promedio=0\n",
        "for num in notas:\n",
        "  promedio+=num\n",
        "promedio/=len(notas)\n",
        "print(promedio)"
      ],
      "metadata": {
        "id": "cG0ml2r4JfwU",
        "outputId": "32db61d0-95c3-4dc1-e124-0b7518682ec4",
        "colab": {
          "base_uri": "https://localhost:8080/"
        }
      },
      "execution_count": 30,
      "outputs": [
        {
          "output_type": "stream",
          "name": "stdout",
          "text": [
            "8.2\n"
          ]
        }
      ]
    }
  ]
}